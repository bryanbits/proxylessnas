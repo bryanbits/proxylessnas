{
  "nbformat": 4,
  "nbformat_minor": 0,
  "metadata": {
    "colab": {
      "name": "ProxylessNAS-Search.ipynb",
      "provenance": [],
      "collapsed_sections": [],
      "include_colab_link": true
    },
    "kernelspec": {
      "name": "python3",
      "display_name": "Python 3"
    },
    "language_info": {
      "name": "python"
    },
    "gpuClass": "standard",
    "accelerator": "GPU"
  },
  "cells": [
    {
      "cell_type": "markdown",
      "metadata": {
        "id": "view-in-github",
        "colab_type": "text"
      },
      "source": [
        "<a href=\"https://colab.research.google.com/github/bryanbits/proxylessnas/blob/master/ProxylessNAS_Search.ipynb\" target=\"_parent\"><img src=\"https://colab.research.google.com/assets/colab-badge.svg\" alt=\"Open In Colab\"/></a>"
      ]
    },
    {
      "cell_type": "code",
      "source": [
        "!pip install cifar2png\n",
        "\n",
        "!cifar2png cifar100 cifar100"
      ],
      "metadata": {
        "id": "IDmRP9dM57bq"
      },
      "execution_count": null,
      "outputs": []
    },
    {
      "cell_type": "code",
      "source": [
        "import os\n",
        "import shutil\n",
        "import glob\n",
        "import random\n",
        "\n",
        "!mkdir superclasses\n",
        "\n",
        "super_to_sub = {\n",
        "    \"aquatic_mammals\": [\"beaver\", \"dolphin\", \"otter\", \"seal\", \"whale\"],\n",
        "    \"fish\": [\"aquarium_fish\", \"flatfish\", \"ray\", \"shark\", \"trout\"],\n",
        "    \"flowers\": [\"orchid\", \"poppy\", \"rose\", \"sunflower\", \"tulip\"],\n",
        "    \"food_containers\": [\"bottle\", \"bowl\", \"can\", \"cup\", \"plate\"],\n",
        "    \"fruit_and_vegetables\":\t[\"apple\", \"mushroom\", \"orange\", \"pear\", \"sweet_pepper\"],\n",
        "    \"household_electrical_devices\":\t[\"clock\", \"keyboard\", \"lamp\", \"telephone\", \"television\"],\n",
        "    \"household_furniture\": [\"bed\", \"chair\", \"couch\", \"table\", \"wardrobe\"],\n",
        "    \"insects\": [\"bee\", \"beetle\", \"butterfly\", \"caterpillar\", \"cockroach\"],\n",
        "    \"large_carnivores\":\t[\"bear\", \"leopard\", \"lion\", \"tiger\", \"wolf\"],\n",
        "    \"large_man-made_outdoor_things\": [\"bridge\", \"castle\", \"house\", \"road\", \"skyscraper\"],\n",
        "    \"large_natural_outdoor_scenes\": [\"cloud\", \"forest\", \"mountain\", \"plain\", \"sea\"],\n",
        "    \"large_omnivores_and_herbivores\": [\"camel\", \"cattle\", \"chimpanzee\", \"elephant\", \"kangaroo\"],\n",
        "    \"medium-sized_mammals\":\t[\"fox\", \"porcupine\", \"possum\", \"raccoon\", \"skunk\"],\n",
        "    \"non-insect_invertebrates\":\t[\"crab\", \"lobster\", \"snail\", \"spider\", \"worm\"],\n",
        "    \"people\": [\"baby\", \"boy\", \"girl\", \"man\", \"woman\"],\n",
        "    \"reptiles\":\t[\"crocodile\", \"dinosaur\", \"lizard\", \"snake\", \"turtle\"],\n",
        "    \"small_mammals\": [\"hamster\", \"mouse\", \"rabbit\", \"shrew\", \"squirrel\"],\n",
        "    \"trees\": [\"maple_tree\", \"oak_tree\", \"palm_tree\", \"pine_tree\", \"willow_tree\"],\n",
        "    \"vehicles_1\": [\"bicycle\", \"bus\", \"motorcycle\", \"pickup_truck\", \"train\"],\n",
        "    \"vehicles_2\": [\"lawn_mower\", \"rocket\", \"streetcar\", \"tank\", \"tractor\"]\n",
        "    }\n",
        "\n",
        "\n",
        "sub_to_super = {  }\n",
        "\n",
        "for superclass in super_to_sub.keys():\n",
        "  for subclass in super_to_sub[superclass]:\n",
        "    sub_to_super[subclass] = superclass\n",
        "\n",
        "print(sub_to_super)\n",
        "\n",
        "for subclass in sub_to_super.keys():\n",
        "  dest = os.path.join(\"superclasses\", sub_to_super[subclass])\n",
        "  test_dest = os.path.join(dest, \"test/\" + subclass)\n",
        "  train_dest = os.path.join(dest, \"train/\" + subclass)\n",
        "\n",
        "  test_copy = os.path.join(\"./cifar100/test\", subclass)\n",
        "  train_copy = os.path.join(\"./cifar100/train\", subclass)\n",
        "\n",
        "  print(test_copy + \" into \" + test_dest)\n",
        "\n",
        "\n",
        "  print(train_copy + \" into \" + train_dest)\n",
        "\n",
        "  if not os.path.exists(test_dest):\n",
        "    shutil.copytree(test_copy, test_dest)\n",
        "  if not os.path.exists(train_dest):\n",
        "    shutil.copytree(train_copy, train_dest)"
      ],
      "metadata": {
        "id": "m-qNRZE-6tHB"
      },
      "execution_count": null,
      "outputs": []
    },
    {
      "cell_type": "code",
      "source": [
        "# randomly groups 2 superclasses together to search for neural networks on\n",
        "\n",
        "superclasses = [\n",
        "    \"aquatic_mammals\",\n",
        "    \"fish\",\n",
        "    \"flowers\",\n",
        "    \"food_containers\",\n",
        "    \"fruit_and_vegetables\",\n",
        "    \"household_electrical_devices\",\n",
        "    \"household_furniture\",\n",
        "    \"insects\",\n",
        "    \"large_carnivores\",\n",
        "    \"large_man-made_outdoor_things\",\n",
        "    \"large_natural_outdoor_scenes\",\n",
        "    \"large_omnivores_and_herbivores\",\n",
        "    \"medium-sized_mammals\",\n",
        "    \"non-insect_invertebrates\",\n",
        "    \"people\",\n",
        "    \"reptiles\",\n",
        "    \"small_mammals\",\n",
        "    \"trees\",\n",
        "    \"vehicles_1\",\n",
        "    \"vehicles_2\"\n",
        "]\n",
        "\n",
        "import random \n",
        "def partition (list_in, n):\n",
        "    random.shuffle(list_in)\n",
        "    return [list_in[i::n] for i in range(n)]\n",
        "\n",
        "all_partitions = partition(superclasses, 10)\n",
        "\n",
        "\n",
        "if not os.path.exists(\"groups\"):\n",
        "  !mkdir groups\n",
        "\n",
        "import glob\n",
        "\n",
        "for i, partition_list in enumerate(all_partitions):\n",
        "  directory_name = \"group_\" + str(i)\n",
        "  directory_path = \"groups/\" + directory_name\n",
        "  \n",
        "  test_dest = directory_path\n",
        "  train_dest = directory_path\n",
        "\n",
        "  if not os.path.exists(directory_path):\n",
        "    !mkdir $directory_path\n",
        "  if not os.path.exists(test_dest):\n",
        "    !mkdir $test_dest\n",
        "  if not os.path.exists(train_dest):\n",
        "    !mkdir $train_dest\n",
        "\n",
        "  for superclass in partition_list:\n",
        "    test_path = \"superclasses/\" + superclass + \"/test\"\n",
        "    train_path = \"superclasses/\" + superclass + \"/train\"\n",
        "\n",
        "    print(test_path + \" into \" + test_dest)\n",
        "    print(train_path + \" into \" + train_dest)\n",
        "\n",
        "\n",
        "      # shutil.copytree(test_path, test_dest)\n",
        "    !cp -r $test_path $test_dest\n",
        "    !cp -r $train_path $train_dest\n",
        "\n",
        "    # if not os.path.exists(train_dest):\n",
        "      # shutil.copytree(test_path, train_dest)\n",
        "    \n",
        "\n",
        "\n",
        "# for subclass in sub_to_super.keys():\n",
        "#   dest = os.path.join(\"superclasses\", sub_to_super[subclass])\n",
        "#   test_dest = os.path.join(dest, \"test/\" + subclass)\n",
        "#   train_dest = os.path.join(dest, \"train/\" + subclass)\n",
        "\n",
        "#   test_copy = os.path.join(\"./cifar100/test\", subclass)\n",
        "#   train_copy = os.path.join(\"./cifar100/train\", subclass)\n",
        "\n",
        "#   if not os.path.exists(test_dest):\n",
        "#     shutil.copytree(test_copy, test_dest)\n",
        "#   if not os.path.exists(train_dest):\n",
        "#     shutil.copytree(train_copy, train_dest)"
      ],
      "metadata": {
        "id": "045NvWDYOC4s"
      },
      "execution_count": null,
      "outputs": []
    },
    {
      "cell_type": "code",
      "source": [
        "!git clone https://github.com/bryanbits/proxylessnas.git"
      ],
      "metadata": {
        "id": "jzIHO5DoxClL"
      },
      "execution_count": null,
      "outputs": []
    },
    {
      "cell_type": "code",
      "source": [
        "# full dataset\n",
        "\n",
        "!python proxylessnas/search/cifar10_arch_search.py --path \"cifar100\" --valid_size 100 --target_hardware gpu8 --train_batch_size 64 --test_batch_size 64"
      ],
      "metadata": {
        "id": "5izpwrkCxTRD"
      },
      "execution_count": null,
      "outputs": []
    },
    {
      "cell_type": "code",
      "source": [
        "# partition dataset 1\n",
        "\n",
        "!python proxylessnas/search/cifar10_arch_search.py --path \"groups/group_0\" --valid_size 1000 --target_hardware flops --train_batch_size 8 --test_batch_size 20 --print_frequency 100 --warmup_epochs 0"
      ],
      "metadata": {
        "id": "ekAmV1gsNpV2"
      },
      "execution_count": null,
      "outputs": []
    },
    {
      "cell_type": "code",
      "source": [
        "# partition dataset 2\n",
        "\n",
        "!python proxylessnas/search/cifar10_arch_search.py --path \"groups/group_1\" --valid_size 1000 --target_hardware flops --train_batch_size 8 --test_batch_size 20 --print_frequency 100 --warmup_epochs 0"
      ],
      "metadata": {
        "id": "foHq7ZNYNpPe"
      },
      "execution_count": null,
      "outputs": []
    },
    {
      "cell_type": "code",
      "source": [
        "# partition dataset 3\n",
        "\n",
        "!python proxylessnas/search/cifar10_arch_search.py --path \"groups/group_2\" --valid_size 1000 --target_hardware flops --train_batch_size 8 --test_batch_size 20 --print_frequency 100 --warmup_epochs 0"
      ],
      "metadata": {
        "id": "GfnVvvubNpGp"
      },
      "execution_count": null,
      "outputs": []
    },
    {
      "cell_type": "code",
      "source": [
        "# partition dataset 4\n",
        "\n",
        "!python proxylessnas/search/cifar10_arch_search.py --path \"groups/group_3\" --valid_size 1000 --target_hardware flops --train_batch_size 8 --test_batch_size 20 --print_frequency 100 --warmup_epochs 0"
      ],
      "metadata": {
        "id": "uP65EHzNNo91"
      },
      "execution_count": null,
      "outputs": []
    },
    {
      "cell_type": "code",
      "source": [
        "# partition dataset 5\n",
        "\n",
        "!python proxylessnas/search/cifar10_arch_search.py --path \"groups/group_4\" --valid_size 1000 --target_hardware flops --train_batch_size 8 --test_batch_size 20 --print_frequency 100 --warmup_epochs 0"
      ],
      "metadata": {
        "id": "_dEE9gngNotg"
      },
      "execution_count": null,
      "outputs": []
    },
    {
      "cell_type": "code",
      "source": [
        "# partition dataset 6\n",
        "\n",
        "!python proxylessnas/search/cifar10_arch_search.py --path \"groups/group_5\" --valid_size 1000 --target_hardware flops --train_batch_size 8 --test_batch_size 20 --print_frequency 100 --warmup_epochs 0"
      ],
      "metadata": {
        "id": "orUlJQIJNx-Z"
      },
      "execution_count": null,
      "outputs": []
    },
    {
      "cell_type": "code",
      "source": [
        "# partition dataset 7\n",
        "\n",
        "!python proxylessnas/search/cifar10_arch_search.py --path \"groups/group_6\" --valid_size 1000 --target_hardware flops --train_batch_size 8 --test_batch_size 20 --print_frequency 100 --warmup_epochs 0"
      ],
      "metadata": {
        "id": "zlcjH0DZNxuV"
      },
      "execution_count": null,
      "outputs": []
    },
    {
      "cell_type": "code",
      "source": [
        "# partition dataset 8\n",
        "\n",
        "!python proxylessnas/search/cifar10_arch_search.py --path \"groups/group_7\" --valid_size 1000 --target_hardware flops --train_batch_size 8 --test_batch_size 20 --print_frequency 100 --warmup_epochs 0"
      ],
      "metadata": {
        "id": "6XkQbBOdNxnC"
      },
      "execution_count": null,
      "outputs": []
    },
    {
      "cell_type": "code",
      "source": [
        "# partition dataset 9\n",
        "\n",
        "!python proxylessnas/search/cifar10_arch_search.py --path \"groups/group_8\" --valid_size 1000 --target_hardware flops --train_batch_size 8 --test_batch_size 20 --print_frequency 100 --warmup_epochs 0"
      ],
      "metadata": {
        "id": "VjYpSzrNNxbZ"
      },
      "execution_count": null,
      "outputs": []
    },
    {
      "cell_type": "code",
      "source": [
        "# partition dataset 10\n",
        "\n",
        "!python proxylessnas/search/cifar10_arch_search.py --path \"groups/group_9\" --valid_size 1000 --target_hardware flops --train_batch_size 8 --test_batch_size 20 --print_frequency 100 --warmup_epochs 0"
      ],
      "metadata": {
        "id": "OZdnFccGNxOO"
      },
      "execution_count": null,
      "outputs": []
    }
  ]
}